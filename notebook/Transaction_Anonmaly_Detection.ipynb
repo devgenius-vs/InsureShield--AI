{
  "nbformat": 4,
  "nbformat_minor": 0,
  "metadata": {
    "colab": {
      "provenance": [],
      "gpuType": "T4"
    },
    "kernelspec": {
      "name": "python3",
      "display_name": "Python 3"
    },
    "language_info": {
      "name": "python"
    },
    "accelerator": "GPU"
  },
  "cells": [
    {
      "cell_type": "markdown",
      "source": [
        "**Load Necessary Libraries**"
      ],
      "metadata": {
        "id": "_9XIwCYGdfKA"
      }
    },
    {
      "cell_type": "code",
      "execution_count": 1,
      "metadata": {
        "id": "1S6igP1kUusI"
      },
      "outputs": [],
      "source": [
        "import pandas as pd\n",
        "import numpy as np\n",
        "import seaborn as sns\n",
        "import matplotlib.pyplot as plt\n",
        "from sklearn.preprocessing import LabelEncoder, StandardScaler,OneHotEncoder\n",
        "from sklearn.cluster import DBSCAN\n",
        "from sklearn.neighbors import NearestNeighbors\n",
        "from sklearn.metrics import (\n",
        "    silhouette_score, davies_bouldin_score, calinski_harabasz_score,\n",
        "    adjusted_rand_score, normalized_mutual_info_score,\n",
        "    accuracy_score, precision_score, recall_score, f1_score, confusion_matrix\n",
        ")\n",
        "from sklearn.compose import ColumnTransformer\n",
        "from sklearn.pipeline import Pipeline\n"
      ]
    },
    {
      "cell_type": "markdown",
      "source": [
        "**Load the Datasets**"
      ],
      "metadata": {
        "id": "HecjGojGdn-m"
      }
    },
    {
      "cell_type": "code",
      "source": [
        "# Load datasets\n",
        "employee_df = pd.read_csv(\"/content/employee_data.csv\")\n",
        "insurance_df = pd.read_csv(\"/content/insurance_data.csv\")\n",
        "vendor_df = pd.read_csv(\"/content/vendor_data.csv\")\n"
      ],
      "metadata": {
        "id": "7uc5ptP9UwtZ"
      },
      "execution_count": 3,
      "outputs": []
    },
    {
      "cell_type": "markdown",
      "source": [
        "**Perform Feature Engineering**"
      ],
      "metadata": {
        "id": "drpbIyNbdr_I"
      }
    },
    {
      "cell_type": "code",
      "source": [
        "# Merge datasets\n",
        "insurance_df = insurance_df.merge(employee_df, on=\"AGENT_ID\", how=\"left\")\n",
        "insurance_df = insurance_df.merge(vendor_df, on=\"VENDOR_ID\", how=\"left\")\n",
        "\n",
        "# Convert date columns\n",
        "date_cols = ['REPORT_DT', 'LOSS_DT', 'TXN_DATE_TIME', 'POLICY_EFF_DT']\n",
        "for col in date_cols:\n",
        "    insurance_df[col] = pd.to_datetime(insurance_df[col], dayfirst=True, errors='coerce')\n",
        "\n",
        "# Feature Engineering\n",
        "insurance_df['CLAIM_TO_PREMIUM_RATIO'] = insurance_df['CLAIM_AMOUNT'] / (insurance_df['PREMIUM_AMOUNT'] + 1)\n",
        "insurance_df['REPORT_DELAY'] = (insurance_df['REPORT_DT'] - insurance_df['LOSS_DT']).dt.days\n",
        "insurance_df['POLICY_DURATION'] = (insurance_df['TXN_DATE_TIME'] - insurance_df['POLICY_EFF_DT']).dt.days\n",
        "insurance_df['POLICY_COUNT_PER_CUSTOMER'] = insurance_df.groupby('CUSTOMER_ID')['POLICY_NUMBER'].transform('count')\n",
        "\n",
        "# Categorical and Numerical Features\n",
        "categorical_cols = ['INSURANCE_TYPE', 'MARITAL_STATUS', 'EMPLOYMENT_STATUS', 'HOUSE_TYPE', 'SOCIAL_CLASS']\n",
        "numerical_cols = [\n",
        "    'PREMIUM_AMOUNT', 'CLAIM_AMOUNT', 'AGE', 'TENURE', 'CLAIM_TO_PREMIUM_RATIO',\n",
        "    'REPORT_DELAY', 'POLICY_DURATION', 'POLICY_COUNT_PER_CUSTOMER'\n",
        "]"
      ],
      "metadata": {
        "id": "_aQfqeJMU7n-"
      },
      "execution_count": 4,
      "outputs": []
    },
    {
      "cell_type": "markdown",
      "source": [
        "**Perform Preprocessing**"
      ],
      "metadata": {
        "id": "dOwsMAiAdx0y"
      }
    },
    {
      "cell_type": "code",
      "source": [
        "# Handle Missing Values\n",
        "insurance_df.fillna(insurance_df.median(numeric_only=True), inplace=True)\n",
        "\n",
        "# Encode Categorical Variables Using One-Hot Encoding\n",
        "preprocessor = ColumnTransformer(\n",
        "    transformers=[\n",
        "        ('num', StandardScaler(), numerical_cols),\n",
        "        ('cat', OneHotEncoder(handle_unknown='ignore'), categorical_cols)\n",
        "    ]\n",
        ")\n"
      ],
      "metadata": {
        "id": "ZpMrPcJbU9S9"
      },
      "execution_count": 5,
      "outputs": []
    },
    {
      "cell_type": "code",
      "source": [
        "pip install kneed"
      ],
      "metadata": {
        "colab": {
          "base_uri": "https://localhost:8080/"
        },
        "id": "NGh96xcYWt00",
        "outputId": "7b885545-6ddf-45d7-bf1d-af6d80ddcf3c"
      },
      "execution_count": 9,
      "outputs": [
        {
          "output_type": "stream",
          "name": "stdout",
          "text": [
            "Collecting kneed\n",
            "  Downloading kneed-0.8.5-py3-none-any.whl.metadata (5.5 kB)\n",
            "Requirement already satisfied: numpy>=1.14.2 in /usr/local/lib/python3.11/dist-packages (from kneed) (1.26.4)\n",
            "Requirement already satisfied: scipy>=1.0.0 in /usr/local/lib/python3.11/dist-packages (from kneed) (1.13.1)\n",
            "Downloading kneed-0.8.5-py3-none-any.whl (10 kB)\n",
            "Installing collected packages: kneed\n",
            "Successfully installed kneed-0.8.5\n"
          ]
        }
      ]
    },
    {
      "cell_type": "markdown",
      "source": [
        "**Find Epsilon Optimally using Elbow Method**"
      ],
      "metadata": {
        "id": "jjZQt1AHd3Xv"
      }
    },
    {
      "cell_type": "code",
      "source": [
        "from sklearn.decomposition import PCA\n",
        "from sklearn.neighbors import NearestNeighbors\n",
        "import numpy as np\n",
        "import matplotlib.pyplot as plt\n",
        "\n",
        "# Reduce Dimensionality Using PCA (Keep 95% Variance)\n",
        "pca = PCA(n_components=0.95)  # Keep 95% of variance\n",
        "X_reduced = pca.fit_transform(X_transformed)\n",
        "\n",
        "# Apply Nearest Neighbors on Reduced Data\n",
        "neigh = NearestNeighbors(n_neighbors=3)  # 4 because min_samples = 3+1\n",
        "nbrs = neigh.fit(X_reduced)\n",
        "distances, indices = nbrs.kneighbors(X_reduced)\n",
        "\n",
        "# Sort distances and plot Elbow Curve\n",
        "distances = np.sort(distances[:, 2])  # 3rd neighbor distance\n",
        "plt.figure(figsize=(8, 5))\n",
        "plt.plot(distances)\n",
        "plt.xlabel(\"Points sorted by distance\")\n",
        "plt.ylabel(\"Epsilon (eps) Distance\")\n",
        "plt.title(\"Elbow Method for Finding Optimal eps\")\n",
        "plt.show()\n",
        "\n",
        "# 📌 Automatically Find Optimal eps (Elbow Point Detection)\n",
        "from kneed import KneeLocator\n",
        "\n",
        "knee_locator = KneeLocator(range(len(distances)), distances, curve=\"convex\", direction=\"increasing\")\n",
        "optimal_eps = distances[knee_locator.knee]\n",
        "\n",
        "print(f\"🔹 Automatically Selected Optimal Epsilon: {optimal_eps}\")\n",
        "\n"
      ],
      "metadata": {
        "id": "ZkTFZveaVKTa",
        "colab": {
          "base_uri": "https://localhost:8080/",
          "height": 504
        },
        "outputId": "3735f557-936a-4765-9a37-bd72bbe24b6c"
      },
      "execution_count": 32,
      "outputs": [
        {
          "output_type": "display_data",
          "data": {
            "text/plain": [
              "<Figure size 800x500 with 1 Axes>"
            ],
            "image/png": "[encoded data removed]"
          },
          "metadata": {}
        },
        {
          "output_type": "stream",
          "name": "stdout",
          "text": [
            "🔹 Automatically Selected Optimal Epsilon: 1.7695360557029647\n"
          ]
        }
      ]
    },
    {
      "cell_type": "markdown",
      "source": [
        "**DBSCAN Model Training**"
      ],
      "metadata": {
        "id": "TjfqJ5oyeExm"
      }
    },
    {
      "cell_type": "code",
      "source": [
        "# 📌 Apply DBSCAN with Optimal eps\n",
        "dbscan = DBSCAN(eps=optimal_eps, min_samples=5)\n",
        "insurance_df['DBSCAN_Cluster'] = dbscan.fit_predict(X_transformed)\n",
        "\n",
        "# Show Cluster Distribution\n",
        "print(\"DBSCAN Cluster Distribution:\\n\", insurance_df['DBSCAN_Cluster'].value_counts())"
      ],
      "metadata": {
        "colab": {
          "base_uri": "https://localhost:8080/"
        },
        "id": "cFJ5I5PoeCNO",
        "outputId": "0a251682-04e5-45f9-d340-910285362cff"
      },
      "execution_count": 33,
      "outputs": [
        {
          "output_type": "stream",
          "name": "stdout",
          "text": [
            "DBSCAN Cluster Distribution:\n",
            " DBSCAN_Cluster\n",
            " 0    9627\n",
            "-1     362\n",
            " 1       6\n",
            " 2       5\n",
            "Name: count, dtype: int64\n"
          ]
        }
      ]
    },
    {
      "cell_type": "markdown",
      "source": [
        "**Model Evaluation**"
      ],
      "metadata": {
        "id": "ANTfO-_heI4M"
      }
    },
    {
      "cell_type": "code",
      "source": [
        "from sklearn.metrics import silhouette_score, davies_bouldin_score, calinski_harabasz_score\n",
        "from sklearn.metrics import accuracy_score, precision_score, recall_score, f1_score, confusion_matrix\n",
        "\n",
        "# 📌 Unsupervised Clustering Metrics\n",
        "dbscan_labels = insurance_df['DBSCAN_Cluster']\n",
        "valid_clusters = [label for label in dbscan_labels.unique() if label != -1]  # Ignore Noise (-1)\n",
        "\n",
        "if len(valid_clusters) >= 2:\n",
        "    print(\"\\n📌 Clustering Evaluation Metrics:\")\n",
        "    print(f\"🔹 Silhouette Score: {silhouette_score(X_transformed, dbscan_labels):.4f}\")\n",
        "    print(f\"🔹 Davies-Bouldin Score: {davies_bouldin_score(X_transformed, dbscan_labels):.4f}\")\n",
        "    print(f\"🔹 Calinski-Harabasz Score: {calinski_harabasz_score(X_transformed, dbscan_labels):.4f}\")\n",
        "else:\n",
        "    print(\"\\n⚠️ DBSCAN resulted in only one cluster or noise. Adjust `eps` or `min_samples`.\")\n"
      ],
      "metadata": {
        "colab": {
          "base_uri": "https://localhost:8080/"
        },
        "id": "7uFARQ0IWppB",
        "outputId": "9a042164-6b3f-4fab-bada-9191f778f15d"
      },
      "execution_count": 20,
      "outputs": [
        {
          "output_type": "stream",
          "name": "stdout",
          "text": [
            "\n",
            "📌 Clustering Evaluation Metrics:\n",
            "🔹 Silhouette Score: 0.1662\n",
            "🔹 Davies-Bouldin Score: 2.0632\n",
            "🔹 Calinski-Harabasz Score: 95.2025\n"
          ]
        }
      ]
    },
    {
      "cell_type": "markdown",
      "source": [
        "**Model Testing - Negative Case**"
      ],
      "metadata": {
        "id": "uQQ2dFtmeO43"
      }
    },
    {
      "cell_type": "code",
      "source": [
        "import pandas as pd\n",
        "import numpy as np\n",
        "\n",
        "# Sample new transaction for testing\n",
        "new_transaction = {\n",
        "    \"PREMIUM_AMOUNT\": 61.45,\n",
        "    \"CLAIM_AMOUNT\": 92000,\n",
        "    \"AGE\": 59,\n",
        "    \"TENURE\": 14,\n",
        "    \"CLAIM_TO_PREMIUM_RATIO\": 1473.178543,\n",
        "    \"REPORT_DELAY\": 15,\n",
        "    \"POLICY_DURATION\": 429,\n",
        "    \"POLICY_COUNT_PER_CUSTOMER\": 1,\n",
        "    \"INSURANCE_TYPE\": \"Life\",\n",
        "    \"MARITAL_STATUS\": \"N\",\n",
        "    \"EMPLOYMENT_STATUS\": \"Y\",\n",
        "    \"HOUSE_TYPE\": \"Mortgage\",\n",
        "    \"SOCIAL_CLASS\": \"MI\"\n",
        "}\n",
        "\n",
        "# Convert the new transaction to DataFrame\n",
        "new_df = pd.DataFrame([new_transaction])\n",
        "\n",
        "# Ensure the new transaction has the same columns as the original dataset\n",
        "new_df = new_df[numerical_cols + categorical_cols]\n",
        "\n",
        "# Apply the same preprocessing (scaling and encoding) to the new transaction\n",
        "new_scaled = preprocessor.transform(new_df)\n",
        "\n",
        "# Apply the PCA transformation (use the already fitted PCA model)\n",
        "new_reduced = pca.transform(new_scaled)\n",
        "\n",
        "# Predict cluster using Nearest Neighbors (find the closest point)\n",
        "_, nearest_index = nbrs.kneighbors(new_reduced)\n",
        "new_cluster = dbscan.labels_[nearest_index[0][0]]  # Assign the nearest cluster\n",
        "\n",
        "# Define anomaly clusters (e.g., -1, 1, 2 based on your output)\n",
        "anomaly_clusters = {-1, 1, 2}\n",
        "\n",
        "# Classify the transaction as normal or anomalous\n",
        "if new_cluster in anomaly_clusters:\n",
        "    print(f\"🚨 ALERT: The transaction is ANOMALOUS! (Cluster {new_cluster})\")\n",
        "else:\n",
        "    print(f\"✅ The transaction is NORMAL (Cluster {new_cluster})\")\n"
      ],
      "metadata": {
        "colab": {
          "base_uri": "https://localhost:8080/"
        },
        "id": "1rdtLks9XSwp",
        "outputId": "66ec292a-4874-4689-8e27-6633ad56ccba"
      },
      "execution_count": 29,
      "outputs": [
        {
          "output_type": "stream",
          "name": "stdout",
          "text": [
            "🚨 ALERT: The transaction is ANOMALOUS! (Cluster -1)\n"
          ]
        }
      ]
    },
    {
      "cell_type": "markdown",
      "source": [
        "**Model Testing - Positive Case**"
      ],
      "metadata": {
        "id": "ORMSgLAyeTdj"
      }
    },
    {
      "cell_type": "code",
      "source": [
        "import pandas as pd\n",
        "import numpy as np\n",
        "\n",
        "# Sample new transaction for testing\n",
        "new_transaction = {\n",
        "    \"PREMIUM_AMOUNT\": 12.45,\n",
        "    \"CLAIM_AMOUNT\": 9200,\n",
        "    \"AGE\": 39,\n",
        "    \"TENURE\": 14,\n",
        "    \"CLAIM_TO_PREMIUM_RATIO\": 1473.1543,\n",
        "    \"REPORT_DELAY\": 25,\n",
        "    \"POLICY_DURATION\": 479,\n",
        "    \"POLICY_COUNT_PER_CUSTOMER\": 2,\n",
        "    \"INSURANCE_TYPE\": \"Life\",\n",
        "    \"MARITAL_STATUS\": \"N\",\n",
        "    \"EMPLOYMENT_STATUS\": \"Y\",\n",
        "    \"HOUSE_TYPE\": \"Mortgage\",\n",
        "    \"SOCIAL_CLASS\": \"MI\"\n",
        "}\n",
        "\n",
        "# Convert the new transaction to DataFrame\n",
        "new_df = pd.DataFrame([new_transaction])\n",
        "\n",
        "# Ensure the new transaction has the same columns as the original dataset\n",
        "new_df = new_df[numerical_cols + categorical_cols]\n",
        "\n",
        "# Apply the same preprocessing (scaling and encoding) to the new transaction\n",
        "new_scaled = preprocessor.transform(new_df)\n",
        "\n",
        "# Apply the PCA transformation (use the already fitted PCA model)\n",
        "new_reduced = pca.transform(new_scaled)\n",
        "\n",
        "# Predict cluster using Nearest Neighbors (find the closest point)\n",
        "_, nearest_index = nbrs.kneighbors(new_reduced)\n",
        "new_cluster = dbscan.labels_[nearest_index[0][0]]  # Assign the nearest cluster\n",
        "\n",
        "# Define anomaly clusters (e.g., -1, 1, 2 based on your output)\n",
        "anomaly_clusters = {-1, 1, 2}\n",
        "\n",
        "# Classify the transaction as normal or anomalous\n",
        "if new_cluster in anomaly_clusters:\n",
        "    print(f\"🚨 ALERT: The transaction is ANOMALOUS! (Cluster {new_cluster})\")\n",
        "else:\n",
        "    print(f\"✅ The transaction is NORMAL (Cluster {new_cluster})\")\n"
      ],
      "metadata": {
        "colab": {
          "base_uri": "https://localhost:8080/"
        },
        "id": "vXA8abX3dCzF",
        "outputId": "f72612a2-0dd8-4c49-b8ea-8472395c91bf"
      },
      "execution_count": 30,
      "outputs": [
        {
          "output_type": "stream",
          "name": "stdout",
          "text": [
            "✅ The transaction is NORMAL (Cluster 0)\n"
          ]
        }
      ]
    },
    {
      "cell_type": "markdown",
      "source": [
        "**Analysing Feature Importance**"
      ],
      "metadata": {
        "id": "QeqizpPmeZK7"
      }
    },
    {
      "cell_type": "code",
      "source": [
        "import numpy as np\n",
        "import pandas as pd\n",
        "\n",
        "# Get feature names after encoding (numerical + one-hot categorical features)\n",
        "encoded_feature_names = (\n",
        "    numerical_cols +\n",
        "    list(preprocessor.named_transformers_['cat'].get_feature_names_out(categorical_cols))\n",
        ")\n",
        "\n",
        "# Get absolute loadings (importance) of each feature in the first few principal components\n",
        "pca_importance = np.abs(pca.components_[:2])  # First 2 components\n",
        "pca_feature_importance = np.mean(pca_importance, axis=0)  # Mean importance per feature\n",
        "\n",
        "# Create DataFrame for better visualization\n",
        "importance_df = pd.DataFrame({\n",
        "    'Feature': encoded_feature_names,\n",
        "    'Importance': pca_feature_importance\n",
        "}).sort_values(by='Importance', ascending=False)\n",
        "\n",
        "# Display top contributing features\n",
        "print(\"🔹 Features contributing most to PCA-reduced clustering:\")\n",
        "print(importance_df.head(10))\n"
      ],
      "metadata": {
        "colab": {
          "base_uri": "https://localhost:8080/"
        },
        "id": "QUiY6FhrZSVY",
        "outputId": "78d22101-a1f3-479c-98f3-6bdd8fefb805"
      },
      "execution_count": 25,
      "outputs": [
        {
          "output_type": "stream",
          "name": "stdout",
          "text": [
            "🔹 Features contributing most to PCA-reduced clustering:\n",
            "                    Feature  Importance\n",
            "0            PREMIUM_AMOUNT    0.477158\n",
            "4    CLAIM_TO_PREMIUM_RATIO    0.395411\n",
            "1              CLAIM_AMOUNT    0.371662\n",
            "10    INSURANCE_TYPE_Mobile    0.168323\n",
            "9       INSURANCE_TYPE_Life    0.136398\n",
            "8     INSURANCE_TYPE_Health    0.119780\n",
            "12  INSURANCE_TYPE_Property    0.065416\n",
            "13    INSURANCE_TYPE_Travel    0.055470\n",
            "11     INSURANCE_TYPE_Motor    0.053182\n",
            "2                       AGE    0.043226\n"
          ]
        }
      ]
    },
    {
      "cell_type": "code",
      "source": [
        "# Filter transactions labeled as anomalies (DBSCAN cluster = -1)\n",
        "anomalies = insurance_df[insurance_df['DBSCAN_Cluster'] == -1]\n",
        "\n",
        "# Display 5 sample anomaly transactions\n",
        "print(anomalies.head(5))\n"
      ],
      "metadata": {
        "colab": {
          "base_uri": "https://localhost:8080/"
        },
        "id": "j4Udn1DGZ750",
        "outputId": "85c1db10-d216-43a3-bdcf-61722ed8dbdb"
      },
      "execution_count": 26,
      "outputs": [
        {
          "output_type": "stream",
          "name": "stdout",
          "text": [
            "   TXN_DATE_TIME TRANSACTION_ID CUSTOMER_ID POLICY_NUMBER POLICY_EFF_DT  \\\n",
            "10    2020-06-01    TXN00000011   A00007952   PLC00003007    2019-03-30   \n",
            "13    2020-06-01    TXN00000014   A00007988   PLC00002521    2020-01-29   \n",
            "53    2020-06-02    TXN00000054   A00000859   PLC00008827    2017-09-05   \n",
            "62    2020-06-02    TXN00000063   A00002702   PLC00003400    2017-05-21   \n",
            "65    2020-06-02    TXN00000066   A00000261   PLC00006979    2011-02-17   \n",
            "\n",
            "      LOSS_DT  REPORT_DT INSURANCE_TYPE  PREMIUM_AMOUNT  CLAIM_AMOUNT  ...  \\\n",
            "10 2020-05-20 2020-05-25           Life           61.45         92000  ...   \n",
            "13 2020-05-18 2020-05-23           Life           64.16         51000  ...   \n",
            "53 2020-05-27 2020-05-29       Property          104.05         16000  ...   \n",
            "62 2020-05-24 2020-05-27       Property          151.81         15000  ...   \n",
            "65 2020-05-26 2020-05-28           Life           67.55         96000  ...   \n",
            "\n",
            "          ADDRESS_LINE1 ADDRESS_LINE2      CITY STATE POSTAL_CODE  \\\n",
            "10  4255 Tanager Common           NaN   Fremont    CA     94555.0   \n",
            "13                  NaN           NaN       NaN   NaN     37221.0   \n",
            "53  12300 Apache Avenue          #107  Savannah    GA     31419.0   \n",
            "62  243 Kentucky Avenue           NaN  Pasadena    MD     21122.0   \n",
            "65                  NaN           NaN       NaN   NaN     37221.0   \n",
            "\n",
            "    CLAIM_TO_PREMIUM_RATIO REPORT_DELAY POLICY_DURATION  \\\n",
            "10             1473.178543            5             429   \n",
            "13              782.688766            5             124   \n",
            "53              152.308425            2            1001   \n",
            "62               98.161115            3            1108   \n",
            "65             1400.437637            2            3393   \n",
            "\n",
            "    POLICY_COUNT_PER_CUSTOMER  DBSCAN_Cluster  \n",
            "10                          1              -1  \n",
            "13                          1              -1  \n",
            "53                          1              -1  \n",
            "62                          1              -1  \n",
            "65                          1              -1  \n",
            "\n",
            "[5 rows x 58 columns]\n"
          ]
        }
      ]
    },
    {
      "cell_type": "markdown",
      "source": [
        "**Saving Model and Preprocessor as Pickle**"
      ],
      "metadata": {
        "id": "QLtP6rqtejaW"
      }
    },
    {
      "cell_type": "code",
      "source": [
        "import pickle\n",
        "\n",
        "# Save DBSCAN model\n",
        "with open(\"dbscan_model.pkl\", \"wb\") as model_file:\n",
        "    pickle.dump(dbscan, model_file)\n",
        "\n",
        "# Save Preprocessor (StandardScaler + OneHotEncoder)\n",
        "with open(\"preprocessor.pkl\", \"wb\") as preprocessor_file:\n",
        "    pickle.dump(preprocessor, preprocessor_file)\n",
        "\n",
        "print(\"✅ Model and Preprocessor saved successfully!\")\n"
      ],
      "metadata": {
        "colab": {
          "base_uri": "https://localhost:8080/"
        },
        "id": "IAdVGXBHb_17",
        "outputId": "c4564485-bcfd-4a08-83d8-de07e010abba"
      },
      "execution_count": 31,
      "outputs": [
        {
          "output_type": "stream",
          "name": "stdout",
          "text": [
            "✅ Model and Preprocessor saved successfully!\n"
          ]
        }
      ]
    }
  ]
}