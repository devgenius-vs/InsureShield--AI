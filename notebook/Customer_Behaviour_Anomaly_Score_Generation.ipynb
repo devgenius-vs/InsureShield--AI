{
  "nbformat": 4,
  "nbformat_minor": 0,
  "metadata": {
    "colab": {
      "provenance": []
    },
    "kernelspec": {
      "name": "python3",
      "display_name": "Python 3"
    },
    "language_info": {
      "name": "python"
    }
  },
  "cells": [
    {
      "cell_type": "markdown",
      "source": [
        "Import Necessary Libraries"
      ],
      "metadata": {
        "id": "NLSj_cBOJcHE"
      }
    },
    {
      "cell_type": "code",
      "source": [
        "import pandas as pd\n",
        "import numpy as np\n",
        "from sklearn.preprocessing import StandardScaler, LabelEncoder\n",
        "from sklearn.impute import SimpleImputer\n",
        "from sklearn.cluster import DBSCAN\n",
        "import xgboost as xgb\n",
        "from sklearn.model_selection import train_test_split\n",
        "import matplotlib.pyplot as plt\n",
        "from sklearn.neighbors import NearestNeighbors\n",
        "from sklearn.metrics import classification_report, accuracy_score\n",
        "from kneed import KneeLocator"
      ],
      "metadata": {
        "id": "SNuokNwuJZJF"
      },
      "execution_count": 15,
      "outputs": []
    },
    {
      "cell_type": "code",
      "source": [
        "pip install kneed"
      ],
      "metadata": {
        "colab": {
          "base_uri": "https://localhost:8080/"
        },
        "id": "StY2QThCK02e",
        "outputId": "3c4c7cc9-7451-4002-805f-716775c98590"
      },
      "execution_count": 14,
      "outputs": [
        {
          "output_type": "stream",
          "name": "stdout",
          "text": [
            "Collecting kneed\n",
            "  Downloading kneed-0.8.5-py3-none-any.whl.metadata (5.5 kB)\n",
            "Requirement already satisfied: numpy>=1.14.2 in /usr/local/lib/python3.11/dist-packages (from kneed) (1.26.4)\n",
            "Requirement already satisfied: scipy>=1.0.0 in /usr/local/lib/python3.11/dist-packages (from kneed) (1.13.1)\n",
            "Downloading kneed-0.8.5-py3-none-any.whl (10 kB)\n",
            "Installing collected packages: kneed\n",
            "Successfully installed kneed-0.8.5\n"
          ]
        }
      ]
    },
    {
      "cell_type": "markdown",
      "source": [
        "Load the Dataset"
      ],
      "metadata": {
        "id": "4qEMUR4XJfpt"
      }
    },
    {
      "cell_type": "code",
      "source": [
        "# Load the dataset\n",
        "df = pd.read_csv(\"/content/sbi_life_enhanced_anomaly_dataset.csv\")  # Replace with actual file\n"
      ],
      "metadata": {
        "id": "6XSFiDstJkPC"
      },
      "execution_count": 4,
      "outputs": []
    },
    {
      "cell_type": "markdown",
      "source": [
        "Data Preprocessing"
      ],
      "metadata": {
        "id": "EVFRTjxdJpuu"
      }
    },
    {
      "cell_type": "code",
      "source": [
        "  # Drop unnecessary columns\n",
        "  df = df.drop(columns=[\"Customer_ID\"], errors=\"ignore\")  # Remove if exists\n",
        "\n",
        "  # Identify categorical and numerical columns\n",
        "  categorical_cols = [\"Income_Group\", \"Premium_Payment_Mode\", \"Agent_Involvement\"]\n",
        "  numerical_cols = [\"Age\", \"Past_Experience\", \"Policy_Count\", \"Claim_History\",\n",
        "                    \"Avg_Policy_Term\", \"Fraud_History\", \"Missed_Payments\", \"Premium_Amount\"]\n",
        "\n",
        "  # Handle missing values\n",
        "  num_imputer = SimpleImputer(strategy=\"median\")\n",
        "  cat_imputer = SimpleImputer(strategy=\"most_frequent\")\n",
        "\n",
        "  df[numerical_cols] = num_imputer.fit_transform(df[numerical_cols])\n",
        "  df[categorical_cols] = cat_imputer.fit_transform(df[categorical_cols])\n",
        "\n",
        "  # Encode categorical variables\n",
        "  for col in categorical_cols:\n",
        "      df[col] = LabelEncoder().fit_transform(df[col])"
      ],
      "metadata": {
        "id": "KWHGKpsZJpI_"
      },
      "execution_count": 5,
      "outputs": []
    },
    {
      "cell_type": "markdown",
      "source": [
        "Feature Engineering"
      ],
      "metadata": {
        "id": "EpKlnuZnJw1U"
      }
    },
    {
      "cell_type": "code",
      "source": [
        "# 1️⃣ Policy Lifetime: Longer duration = More stable customer\n",
        "df[\"Policy_Lifetime\"] = df[\"Avg_Policy_Term\"] * df[\"Policy_Count\"]\n",
        "\n",
        "# 2️⃣ Claim Frequency: More claims per policy = Higher risk\n",
        "df[\"Claim_Frequency\"] = df[\"Claim_History\"] / (df[\"Policy_Count\"] + 1)  # Avoid division by zero\n",
        "\n",
        "# 3️⃣ Missed Payment Rate: Higher means riskier\n",
        "df[\"Missed_Payment_Rate\"] = df[\"Missed_Payments\"] / (df[\"Policy_Count\"] + 1)\n",
        "\n",
        "# 4️⃣ Income to Premium Ratio: Properly Mapping Income Group to Real Values\n",
        "income_mapping = {\"Low\": 25000, \"Medium\": 75000, \"High\": 150000}  # Approximate income ranges\n",
        "df[\"Income_Estimated\"] = df[\"Income_Group\"].map(income_mapping)\n",
        "df[\"Income_to_Premium\"] = df[\"Income_Estimated\"] / (df[\"Premium_Amount\"] + 1)\n",
        "\n",
        "# 5️⃣ Fraud Impact: If they missed payments before & have fraud history = HIGH RISK\n",
        "df[\"Fraud_Impact\"] = df[\"Fraud_History\"] * df[\"Missed_Payment_Rate\"]\n",
        "\n",
        "# 6️⃣ Agent Involvement Impact: If an agent is frequently changing policies = Red Flag\n",
        "df[\"Agent_Involvement_Impact\"] = df[\"Agent_Involvement\"] * df[\"Policy_Count\"]\n"
      ],
      "metadata": {
        "id": "qYLPIakxJt9l"
      },
      "execution_count": 27,
      "outputs": []
    },
    {
      "cell_type": "code",
      "source": [
        "df[\"Policy_Creation_Anomaly\"] = np.where(\n",
        "    (df[\"Policy_Count\"] > df[\"Past_Experience\"] * 2), 1, 0\n",
        ")\n",
        "df[\"Policy_Termination_Anomaly\"] = np.where(\n",
        "    (df[\"Claim_History\"] > df[\"Policy_Count\"] * 0.7) & (df[\"Avg_Policy_Term\"] < 3), 1, 0\n",
        ")\n",
        "df[\"Policy_Termination_Anomaly\"] = np.where(\n",
        "    (df[\"Claim_History\"] > df[\"Policy_Count\"] * 0.7) & (df[\"Avg_Policy_Term\"] < 3), 1, 0\n",
        ")"
      ],
      "metadata": {
        "id": "v9sntkQWP0f9"
      },
      "execution_count": 24,
      "outputs": []
    },
    {
      "cell_type": "markdown",
      "source": [
        "Normalization using Standard Scaler"
      ],
      "metadata": {
        "id": "51ZcrqWTJ7j-"
      }
    },
    {
      "cell_type": "code",
      "source": [
        "# Normalize all features (numerical + engineered)\n",
        "scaler = StandardScaler()\n",
        "all_features = numerical_cols + categorical_cols + [\n",
        "    \"Policy_Lifetime\", \"Claim_Frequency\", \"Missed_Payment_Rate\",\n",
        "    \"Income_to_Premium\", \"Fraud_Impact\", \"Agent_Involvement_Impact\",\n",
        "    \"Policy_Creation_Anomaly\", \"Policy_Termination_Anomaly\", \"Policy_Claim_Anomaly\"\n",
        "]\n",
        "df[all_features] = scaler.fit_transform(df[all_features])"
      ],
      "metadata": {
        "colab": {
          "base_uri": "https://localhost:8080/"
        },
        "id": "jiYwkVFWJ0Gp",
        "outputId": "c4506afc-82e4-4fb5-b4fd-e999941e4ba8"
      },
      "execution_count": 28,
      "outputs": [
        {
          "output_type": "stream",
          "name": "stderr",
          "text": [
            "/usr/local/lib/python3.11/dist-packages/sklearn/utils/extmath.py:1101: RuntimeWarning: invalid value encountered in divide\n",
            "  updated_mean = (last_sum + new_sum) / updated_sample_count\n",
            "/usr/local/lib/python3.11/dist-packages/sklearn/utils/extmath.py:1106: RuntimeWarning: invalid value encountered in divide\n",
            "  T = new_sum / new_sample_count\n",
            "/usr/local/lib/python3.11/dist-packages/sklearn/utils/extmath.py:1126: RuntimeWarning: invalid value encountered in divide\n",
            "  new_unnormalized_variance -= correction**2 / new_sample_count\n"
          ]
        }
      ]
    },
    {
      "cell_type": "markdown",
      "source": [
        "NaN Check"
      ],
      "metadata": {
        "id": "ApbeE4qjRQyU"
      }
    },
    {
      "cell_type": "code",
      "source": [
        "# Ensure numerical features have no NaNs\n",
        "df[numerical_cols] = num_imputer.fit_transform(df[numerical_cols])\n",
        "\n",
        "# Ensure categorical features have no NaNs\n",
        "df[categorical_cols] = cat_imputer.fit_transform(df[categorical_cols])\n",
        "\n",
        "# Re-check for NaNs after encoding\n",
        "df = df.fillna(0)  # Fill any remaining NaNs with 0 as a fallback\n",
        "\n",
        "# Verify all features are clean\n",
        "assert df[all_features].isna().sum().sum() == 0, \"There are still NaNs in the dataset!\"\n"
      ],
      "metadata": {
        "id": "TsbtnjedRJ2q"
      },
      "execution_count": 31,
      "outputs": []
    },
    {
      "cell_type": "markdown",
      "source": [
        "Finding Best Epsilon for DBSCAN using Elbow Method"
      ],
      "metadata": {
        "id": "EPeg72PfLGNy"
      }
    },
    {
      "cell_type": "code",
      "source": [
        "\n",
        "# Finding best epsilon using k-distance method\n",
        "\n",
        "neighbors = NearestNeighbors(n_neighbors=5)\n",
        "neighbors_fit = neighbors.fit(df[all_features])\n",
        "distances, indices = neighbors_fit.kneighbors(df[all_features])\n",
        "distances = np.sort(distances[:, -1], axis=0)\n",
        "\n",
        "# Plot k-distance graph\n",
        "plt.plot(distances)\n",
        "plt.xlabel(\"Points sorted by distance\")\n",
        "plt.ylabel(\"5th Nearest Neighbor Distance\")\n",
        "plt.title(\"Elbow Method for DBSCAN Epsilon Selection\")\n",
        "plt.show()\n",
        "\n",
        "# Set epsilon based on elbow method (adjust as needed)\n",
        "best_epsilon = distances[int(len(distances) * 0.9)]  # Taking 90th percentile\n",
        "print(f\"Best Epsilon Found: {best_epsilon}\")"
      ],
      "metadata": {
        "colab": {
          "base_uri": "https://localhost:8080/",
          "height": 489
        },
        "id": "zLxzattHKkF8",
        "outputId": "2dcf5a53-0b13-4aa2-bc50-c47ef7d0d1dd"
      },
      "execution_count": 32,
      "outputs": [
        {
          "output_type": "display_data",
          "data": {
            "text/plain": [
              "<Figure size 640x480 with 1 Axes>"
            ],
            "image/png": "[encoded data removed]"
          },
          "metadata": {}
        },
        {
          "output_type": "stream",
          "name": "stdout",
          "text": [
            "Best Epsilon Found: 2.4491051445215066\n"
          ]
        }
      ]
    },
    {
      "cell_type": "markdown",
      "source": [
        "Clustering using DBSCAN"
      ],
      "metadata": {
        "id": "rS6p9Kw6KIAi"
      }
    },
    {
      "cell_type": "code",
      "source": [
        "# Apply DBSCAN for unsupervised anomaly detection\n",
        "dbscan = DBSCAN(eps=2.44, min_samples=15)  # Adjust eps based on data\n",
        "df[\"DBSCAN_Label\"] = dbscan.fit_predict(df[all_features])\n"
      ],
      "metadata": {
        "id": "S2kgrUOAKL4c"
      },
      "execution_count": 171,
      "outputs": []
    },
    {
      "cell_type": "code",
      "source": [
        "# Convert DBSCAN output to anomaly score (0: normal, 1: anomaly)\n",
        "df[\"DBSCAN_Anomaly_Score\"] = np.where(df[\"DBSCAN_Label\"] != 0 , 1, 0)"
      ],
      "metadata": {
        "id": "mHBL2BrmLXQJ"
      },
      "execution_count": 172,
      "outputs": []
    },
    {
      "cell_type": "markdown",
      "source": [
        "Print Basic Summary"
      ],
      "metadata": {
        "id": "2YsAZxccSJLc"
      }
    },
    {
      "cell_type": "code",
      "source": [
        "# Print Anomaly Detection Summary\n",
        "total_anomalies = df[\"DBSCAN_Anomaly_Score\"].sum()\n",
        "total_customers = len(df)\n",
        "anomaly_percentage = (total_anomalies / total_customers) * 100\n",
        "\n",
        "print(f\"Total Customers: {total_customers}\")\n",
        "print(f\"Anomalies Detected: {total_anomalies}\")\n",
        "print(f\"Anomaly Percentage: {anomaly_percentage:.2f}%\")\n",
        "\n",
        "\n",
        "# Count unique clusters\n",
        "print(\"\\nDBSCAN Cluster Distribution:\")\n",
        "print(df[\"DBSCAN_Label\"].value_counts())\n"
      ],
      "metadata": {
        "colab": {
          "base_uri": "https://localhost:8080/"
        },
        "id": "IH6H5TD-RfbW",
        "outputId": "75f9ab85-1599-42e1-af96-542c765bed53"
      },
      "execution_count": 173,
      "outputs": [
        {
          "output_type": "stream",
          "name": "stdout",
          "text": [
            "Total Customers: 10000\n",
            "Anomalies Detected: 1584\n",
            "Anomaly Percentage: 15.84%\n",
            "\n",
            "DBSCAN Cluster Distribution:\n",
            "DBSCAN_Label\n",
            " 0    8416\n",
            "-1    1368\n",
            " 1     106\n",
            " 2      49\n",
            " 4      38\n",
            " 3      23\n",
            "Name: count, dtype: int64\n"
          ]
        }
      ]
    },
    {
      "cell_type": "code",
      "source": [
        "import numpy as np\n",
        "from sklearn.neighbors import NearestNeighbors\n",
        "\n",
        "# Compute distance to the nearest neighbor for ALL points (including noise)\n",
        "nbrs = NearestNeighbors(n_neighbors=2).fit(df[all_features])  # n_neighbors=2 to exclude self-distance\n",
        "distances, _ = nbrs.kneighbors(df[all_features])\n",
        "\n",
        "# Normalize distances to [0,1] range (higher means more anomalous)\n",
        "df[\"DBSCAN_Anomaly_Score\"] = distances[:, 1]  # Use 2nd nearest neighbor distance\n",
        "df[\"DBSCAN_Anomaly_Score\"] = (df[\"DBSCAN_Anomaly_Score\"] - df[\"DBSCAN_Anomaly_Score\"].min()) / \\\n",
        "                             (df[\"DBSCAN_Anomaly_Score\"].max() - df[\"DBSCAN_Anomaly_Score\"].min())\n",
        "\n",
        "print(df[[\"DBSCAN_Label\", \"DBSCAN_Anomaly_Score\"]].head())\n"
      ],
      "metadata": {
        "colab": {
          "base_uri": "https://localhost:8080/"
        },
        "id": "t53j0MElcej3",
        "outputId": "fcb6b936-5766-4c70-8c0a-6077a7153d65"
      },
      "execution_count": 193,
      "outputs": [
        {
          "output_type": "stream",
          "name": "stdout",
          "text": [
            "   DBSCAN_Label  DBSCAN_Anomaly_Score\n",
            "0             0              0.189314\n",
            "1             0              0.310447\n",
            "2             0              0.059906\n",
            "3             0              0.186925\n",
            "4             0              0.259263\n"
          ]
        }
      ]
    },
    {
      "cell_type": "code",
      "source": [],
      "metadata": {
        "id": "xvrA1eSVcutl"
      },
      "execution_count": null,
      "outputs": []
    }
  ]
}